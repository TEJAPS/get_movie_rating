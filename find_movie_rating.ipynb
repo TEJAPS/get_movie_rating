{
 "cells": [
  {
   "cell_type": "code",
   "execution_count": 39,
   "metadata": {},
   "outputs": [],
   "source": [
    "#url = \"https://en.wikipedia.org/wiki/{}\".format(movie)\n",
    "from textblob import TextBlob\n",
    "import requests\n",
    "from urllib.request import urlopen\n",
    "from bs4 import BeautifulSoup\n",
    "\n",
    "\n",
    "\n",
    "def getUrlFromIndiaGlitz(movie):\n",
    "    movie1 = movie.replace(' ','-')\n",
    "    url=\"http://www.indiaglitz.com/telugu-movie-reviews\"\n",
    "    response = requests.get(url)\n",
    "    page =urlopen(url).read()\n",
    "    soup = BeautifulSoup(page,\"lxml\")\n",
    "    for link in soup.findAll('a'):        \n",
    "        if type(link.get('href'))==str:\n",
    "            if link.get('href').find(movie1)!=-1:\n",
    "                print(link.get('href'))\n",
    "                return link.get('href')\n",
    "            \n",
    "def getUrlFromApherald(movie):    \n",
    "    movie1 = movie.title().replace(' ','-')\n",
    "    url=\"http://www.apherald.com/reviews/en\"\n",
    "    response = requests.get(url)\n",
    "    page =urlopen(url).read()\n",
    "    soup = BeautifulSoup(page,\"lxml\")\n",
    "    for link in soup.findAll('a'):        \n",
    "        if type(link.get('href'))==str:\n",
    "            if link.get('href').find(movie1)!=-1:\n",
    "                print(link.get('href'))\n",
    "                return link.get('href')   \n",
    "\n",
    "            \n",
    "def getUrlFromMovieReviews(movie):    \n",
    "    movie1 = movie.title().replace(' ','-')\n",
    "    url=\"http://www.gulte.com/moviereviews\"\n",
    "    response = requests.get(url)\n",
    "    page =urlopen(url).read()\n",
    "    soup = BeautifulSoup(page,\"lxml\")\n",
    "    for link in soup.findAll('a'):        \n",
    "        if type(link.get('href'))==str:\n",
    "            if link.get('href').find(movie1)!=-1:\n",
    "                print(link.get('href'))\n",
    "                return link.get('href')       \n",
    "\n",
    "def getUrlFromTupaki(movie):    \n",
    "    movie1 = movie.title().replace(' ','-')\n",
    "    url=\"http://www.tupaki.com/moviereviews\"\n",
    "    response = requests.get(url)\n",
    "    page =urlopen(url).read()\n",
    "    soup = BeautifulSoup(page,\"lxml\")\n",
    "    for link in soup.findAll('a'):        \n",
    "        if type(link.get('href'))==str:\n",
    "            if link.get('href').find(movie1)!=-1:\n",
    "                print(link.get('href'))\n",
    "                return link.get('href')       \n",
    "\n",
    "def getUrlFrom123Telugu(movie):    \n",
    "    movie1 = movie.title().replace(' ','-')\n",
    "    url=\"http://www.123telugu.com/category/reviews/telugu-movie-reviews\"\n",
    "    response = requests.get(url)\n",
    "    page =urlopen(url).read()\n",
    "    soup = BeautifulSoup(page,\"lxml\")\n",
    "    for link in soup.findAll('a'):        \n",
    "        if type(link.get('href'))==str:\n",
    "            if link.get('href').find(movie1)!=-1:\n",
    "                print(link.get('href'))\n",
    "                return link.get('href')                     "
   ]
  },
  {
   "cell_type": "code",
   "execution_count": 40,
   "metadata": {},
   "outputs": [
    {
     "name": "stdout",
     "output_type": "stream",
     "text": [
      "Enter movie name: jai lava kusa\n",
      "http://www.indiaglitz.com/jai-lava-kusa-telugu-movie-review-21463\n",
      "http://www.apherald.com/Movies/Reviews/282830/Jai-Lava-Kusa-Telugu-Movie-Review-Rating/\n",
      "http://www.gulte.com/moviereviews/638/Movie-Review-Jai-Lava-Kusa-Movie-Review\n",
      "http://www.tupaki.com/movie/review/Jai-Lava-Kusa/667\n",
      "https://gallery.123telugu.com/content/reviews/J/Jai-Lava-Kusa/Jai-Lava-Kusa-twitter-updates.html\n",
      "done\n"
     ]
    }
   ],
   "source": []
  },
  {
   "cell_type": "code",
   "execution_count": 42,
   "metadata": {},
   "outputs": [],
   "source": [
    "def getRating(movie):    \n",
    "    for url in url_list:    \n",
    "        html=urlopen(url).read()#read source code\n",
    "        soup=BeautifulSoup(html,\"lxml\")\n",
    "        #Now you have to pass something to BeautifulSoup to create a soup object.\n",
    "        #That could be a document or an URL.(obj creation)\n",
    "        for script in soup([\"script\",\"style\"]):\n",
    "            script.extract()\n",
    "        text=soup.get_text()#text format\n",
    "        tweets=[line.strip() for line in text.splitlines()]#lines/space remove\n",
    "\n",
    "    ptweets = [tweet for tweet in tweets if TextBlob(tweet).sentiment.polarity>0] #TO KNOW THE POSITIVE SENTENCE\n",
    "    ntweets = [tweet for tweet in tweets if TextBlob(tweet).sentiment.polarity<0] #TO KNOW THE NEGATIVE SENTENCES\n",
    "    neu_tweets = [tweet for tweet in tweets if TextBlob(tweet).sentiment.polarity==0] #TO KNOW THE NEUTRAL SENTENCES\n",
    "\n",
    "    ppoints=len(ptweets)*2\n",
    "    npoints=len(ntweets)*2\n",
    "    neu_points=len(neu_tweets)*0.02\n",
    "    total_points=ppoints+npoints+neu_points\n",
    "\n",
    "    # DATA VISUALIZATION\n",
    "    import matplotlib.pyplot as plt\n",
    "\n",
    "    # Data to plot\n",
    "    labels = \"poitive\",\"Negative\",\"Neutral\"\n",
    "    sizes = [ppoints,npoints,neu_points ]\n",
    "    colors = [\"b\",\"g\",\"m\"]\n",
    "    explode = (0.33, 0.33, 0.33)  # explode 1st slice\n",
    "\n",
    "    # Plot\n",
    "    plt.pie(sizes, explode=explode, labels=labels, colors=colors,autopct='%1.1f%%', shadow=True, startangle=140)\n",
    "\n",
    "    plt.axis('equal')\n",
    "    plt.show()\n",
    "\n",
    "    rating=(ppoints/total_points)*5\n",
    "    print(\"Rating of the movie out of 5 is {}\".format(rating))"
   ]
  },
  {
   "cell_type": "code",
   "execution_count": 44,
   "metadata": {},
   "outputs": [
    {
     "name": "stdout",
     "output_type": "stream",
     "text": [
      "Enter movie name: jai lava kusa\n",
      "http://www.indiaglitz.com/jai-lava-kusa-telugu-movie-review-21463\n",
      "http://www.apherald.com/Movies/Reviews/282830/Jai-Lava-Kusa-Telugu-Movie-Review-Rating/\n",
      "http://www.gulte.com/moviereviews/638/Movie-Review-Jai-Lava-Kusa-Movie-Review\n",
      "http://www.tupaki.com/movie/review/Jai-Lava-Kusa/667\n",
      "https://gallery.123telugu.com/content/reviews/J/Jai-Lava-Kusa/Jai-Lava-Kusa-twitter-updates.html\n",
      "done\n"
     ]
    },
    {
     "data": {
      "image/png": "[encoded data removed]",
      "text/plain": [
       "<matplotlib.figure.Figure at 0x1e42c5266d8>"
      ]
     },
     "metadata": {},
     "output_type": "display_data"
    },
    {
     "name": "stdout",
     "output_type": "stream",
     "text": [
      "Rating of the movie out of 5 is 2.691790040376851\n"
     ]
    }
   ],
   "source": [
    "main=input('Enter movie name: ')\n",
    "url_list=[]           \n",
    "\n",
    "url_list.append(getUrlFromIndiaGlitz(main))\n",
    "url_list.append(getUrlFromApherald(main))\n",
    "url_list.append(getUrlFromMovieReviews(main))\n",
    "url_list.append(getUrlFromTupaki(main))\n",
    "url_list.append(getUrlFrom123Telugu(main))\n",
    "print(\"done\")\n",
    "getRating(main)"
   ]
  },
  {
   "cell_type": "code",
   "execution_count": null,
   "metadata": {
    "collapsed": true
   },
   "outputs": [],
   "source": []
  }
 ],
 "metadata": {
  "kernelspec": {
   "display_name": "Python 3",
   "language": "python",
   "name": "python3"
  },
  "language_info": {
   "codemirror_mode": {
    "name": "ipython",
    "version": 3
   },
   "file_extension": ".py",
   "mimetype": "text/x-python",
   "name": "python",
   "nbconvert_exporter": "python",
   "pygments_lexer": "ipython3",
   "version": "3.6.1"
  }
 },
 "nbformat": 4,
 "nbformat_minor": 2
}
