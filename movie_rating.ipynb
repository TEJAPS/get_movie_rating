{
 "cells": [
  {
   "cell_type": "code",
   "execution_count": 1,
   "metadata": {},
   "outputs": [],
   "source": [
    "from textblob import TextBlob\n",
    "import requests\n",
    "from urllib.request import urlopen\n",
    "from bs4 import BeautifulSoup\n",
    "import re\n",
    "import requests"
   ]
  },
  {
   "cell_type": "code",
   "execution_count": 2,
   "metadata": {},
   "outputs": [],
   "source": [
    "def getUrlFromIndiaGlitz(movie,url):\n",
    "    movie1 = movie.replace(' ','-')\n",
    "    #url=\"http://www.indiaglitz.com/telugu-movie-reviews\"\n",
    "    response = requests.get(url)\n",
    "    page =urlopen(url).read()\n",
    "    soup = BeautifulSoup(page,\"lxml\")\n",
    "    for link in soup.findAll('a'): \n",
    "        x = link.get('href')\n",
    "        if type(x)==str:\n",
    "            if(re.match(r'^http', x)):\n",
    "                {}\n",
    "            else:\n",
    "                x=url+x\n",
    "            if x.find(movie1)!=-1:\n",
    "                print(x)\n",
    "                return x"
   ]
  },
  {
   "cell_type": "code",
   "execution_count": 3,
   "metadata": {},
   "outputs": [
    {
     "data": {
      "text/plain": [
       "'\\ndef google_search(search):\\n    research_later = search\\n    goog_search = \"https://www.google.com/search?q=\" + research_later\\n    r = requests.get(goog_search)\\n    soup = BeautifulSoup(r.text, \"html.parser\")\\n    return (soup.find(\\'cite\\').text)\\n    '"
      ]
     },
     "execution_count": 3,
     "metadata": {},
     "output_type": "execute_result"
    }
   ],
   "source": [
    "\"\"\"\n",
    "def google_search(search):\n",
    "    research_later = search\n",
    "    goog_search = \"https://www.google.com/search?q=\" + research_later\n",
    "    r = requests.get(goog_search)\n",
    "    soup = BeautifulSoup(r.text, \"html.parser\")\n",
    "    return (soup.find('cite').text)\n",
    "    \"\"\"\n",
    "    "
   ]
  },
  {
   "cell_type": "code",
   "execution_count": 4,
   "metadata": {},
   "outputs": [],
   "source": [
    "def google_search(search,listc):\n",
    "    temp=search.split(' ')[0]\n",
    "    page = requests.get(\"https://www.google.dz/search?q=\"+search+\" movie reviews \")\n",
    "    soup = BeautifulSoup(page.content,\"lxml\")\n",
    "    links = soup.findAll(\"a\")\n",
    "    count=0\n",
    "    count2=0\n",
    "    count4=0\n",
    "    count3=0\n",
    "    count5=0\n",
    "    for link in links:\n",
    "        count+=1        \n",
    "        #| re.match('timesofindia',link)\n",
    "        if(  (str(link).find(\"www.123telugu.com\") != -1) and count2==0):            \n",
    "            listc.append(link.get('href')[7:].split('&',1)[0])  \n",
    "            count2+=1\n",
    "            \n",
    "        if(str(link).find(\"timesofindia\") != -1 and count3==0):\n",
    "            listc.append(link.get('href')[7:].split('&', 1)[0])  \n",
    "            count3+=1         \n",
    "            #print(link.get('href')[7:])\n",
    "        \n",
    "    return listc;\n",
    "        "
   ]
  },
  {
   "cell_type": "code",
   "execution_count": 5,
   "metadata": {},
   "outputs": [
    {
     "data": {
      "text/plain": [
       "['http://www.123telugu.com/reviews/review-mirchi-decent-but-not-spicy.html',\n",
       " 'https://timesofindia.indiatimes.com/entertainment/telugu/movies/news/Mirchi-Telugu-movie-review-highlights/articleshow/18396085.cms']"
      ]
     },
     "execution_count": 5,
     "metadata": {},
     "output_type": "execute_result"
    }
   ],
   "source": [
    "listc=[]\n",
    "google_search('mirchi',listc)"
   ]
  },
  {
   "cell_type": "code",
   "execution_count": 25,
   "metadata": {},
   "outputs": [],
   "source": [
    "def getRating(movie,url_list):    \n",
    "    for url in url_list:    \n",
    "        html=urlopen(url).read()#read source code\n",
    "        soup=BeautifulSoup(html,\"lxml\")\n",
    "        #Now you have to pass something to BeautifulSoup to create a soup object.\n",
    "        #That could be a document or an URL.(obj creation)\n",
    "        for script in soup([\"script\",\"style\"]):\n",
    "            script.extract()\n",
    "        text=soup.get_text()#text format\n",
    "        tweets=[line.strip() for line in text.splitlines()]#lines/space remove\n",
    "    if(tweets != None):\n",
    "        ptweets = [tweet for tweet in tweets if TextBlob(tweet).sentiment.polarity>0] #TO KNOW THE POSITIVE SENTENCE\n",
    "        ntweets = [tweet for tweet in tweets if TextBlob(tweet).sentiment.polarity<0] #TO KNOW THE NEGATIVE SENTENCES\n",
    "        neu_tweets = [tweet for tweet in tweets if TextBlob(tweet).sentiment.polarity==0] #TO KNOW THE NEUTRAL SENTENCES\n",
    "\n",
    "        ppoints=len(ptweets)*2\n",
    "        npoints=len(ntweets)*2\n",
    "        neu_points=len(neu_tweets)*0.04\n",
    "        total_points=ppoints+npoints+neu_points\n",
    "\n",
    "        # DATA VISUALIZATION\n",
    "        import matplotlib.pyplot as plt\n",
    "\n",
    "        # Data to plot\n",
    "        labels = \"poitive\",\"Negative\",\"Neutral\"\n",
    "        sizes = [ppoints,npoints,neu_points ]\n",
    "        colors = [\"b\",\"g\",\"m\"]\n",
    "        explode = (0.33, 0.33, 0.33)  # explode 1st slice\n",
    "\n",
    "        # Plot\n",
    "        plt.pie(sizes, explode=explode, labels=labels, colors=colors,autopct='%1.1f%%', shadow=True, startangle=140)\n",
    "\n",
    "        plt.axis('equal')\n",
    "        plt.show()\n",
    "\n",
    "        rating=(ppoints/total_points)*5\n",
    "        print(\"Rating of the movie {0} out of 5 is {1}\".format(movie,rating))"
   ]
  },
  {
   "cell_type": "code",
   "execution_count": null,
   "metadata": {},
   "outputs": [],
   "source": [
    "main=input('Enter movie name: ')\n",
    "main_urls=['http://www.indiaglitz.com/telugu-movie-reviews',\n",
    "\"http://www.apherald.com/reviews/en\",\n",
    "\"http://www.gulte.com/moviereviews\",\n",
    "\"http://www.tupaki.com/moviereviews\",\n",
    "\"http://www.123telugu.com/category/reviews/telugu-movie-reviews\",\n",
    "'https://timesofindia.indiatimes.com/entertainment/telugu',\n",
    "'https://timesofindia.indiatimes.com']\n",
    "url_list_hrefs=[]           \n",
    "\n",
    "for url in main_urls:\n",
    "    y=getUrlFromIndiaGlitz(main,url)\n",
    "    if (y) != None:\n",
    "        url_list_hrefs.append(y)\n",
    "        \n",
    "print(\"reading reviews from Specific sites is over\")\n",
    "print(\"reading reviews from google suggested websites is going on\")\n",
    "print(\"preditcion of \",main,\" is :\")\n",
    "\n",
    "url_list_hrefs = google_search(main,url_list_hrefs)\n",
    "\n",
    "\n",
    "if url_list_hrefs:\n",
    "    getRating(main,url_list_hrefs)\n",
    "else:\n",
    "    print(\"Check your spelling, Counld't find result\")\n"
   ]
  },
  {
   "cell_type": "code",
   "execution_count": null,
   "metadata": {},
   "outputs": [],
   "source": []
  }
 ],
 "metadata": {
  "kernelspec": {
   "display_name": "Python 3",
   "language": "python",
   "name": "python3"
  },
  "language_info": {
   "codemirror_mode": {
    "name": "ipython",
    "version": 3
   },
   "file_extension": ".py",
   "mimetype": "text/x-python",
   "name": "python",
   "nbconvert_exporter": "python",
   "pygments_lexer": "ipython3",
   "version": "3.6.2"
  }
 },
 "nbformat": 4,
 "nbformat_minor": 2
}
